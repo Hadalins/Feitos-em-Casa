{
  "nbformat": 4,
  "nbformat_minor": 0,
  "metadata": {
    "colab": {
      "provenance": [],
      "authorship_tag": "ABX9TyOnJBPfpr6Opx28gBnAf5Na",
      "include_colab_link": true
    },
    "kernelspec": {
      "name": "python3",
      "display_name": "Python 3"
    },
    "language_info": {
      "name": "python"
    }
  },
  "cells": [
    {
      "cell_type": "markdown",
      "metadata": {
        "id": "view-in-github",
        "colab_type": "text"
      },
      "source": [
        "<a href=\"https://colab.research.google.com/github/Hadalins/Feitos-em-Casa/blob/main/A3%2023.2.ipynb\" target=\"_parent\"><img src=\"https://colab.research.google.com/assets/colab-badge.svg\" alt=\"Open In Colab\"/></a>"
      ]
    },
    {
      "cell_type": "code",
      "execution_count": null,
      "metadata": {
        "id": "-xKkA3JnezNl"
      },
      "outputs": [],
      "source": [
        "lista = list([\"1\",\"2\",\"3\"])\n",
        "\n",
        "print (lista)\n"
      ]
    },
    {
      "cell_type": "code",
      "source": [
        "import keyword\n",
        "palavras_reservadas_py = keyword.kwlist\n",
        "palavras_reservadas_jv = [\"abstract\",\"assert\",\"break\",\"case\",\"catch\",\"class\",\"const\",\"continue\",\"default\",\"do\",\"else\",\"enum\",\"extends\",\"final\",\"finally\",\"for\",\"goto\",\"if\",\"implements\",\"import\",\"instanceof\",\"interface\",\"native\",\"new\",\"package\",\"private\",\"protected\",\"public\",\"return\",\"static\",\"strictfp\",\"super\",\"switch\",\"synchronized\",\"this\",\"throw\",\"throws\",\"transient\",\"try\",\"void\",\"volatile\",\"while\"]\n",
        "palavras_reservadas_php = []\n",
        "\n",
        "\n",
        "codigo = input (\"digite seu codigo:\")\n",
        "\n",
        "while True:\n",
        "  if codigo in palavras_reservadas_py or codigo in palavras_reservadas_jv:\n",
        "    print (codigo + \" - palavra reservada\")\n",
        "    break\n",
        "  else:\n",
        "    print (\"não existe na lista\")\n",
        "    codigo = input (\"digite seu codigo:\")"
      ],
      "metadata": {
        "colab": {
          "base_uri": "https://localhost:8080/"
        },
        "id": "YUE5sA3akMfh",
        "outputId": "1410f2f9-83dd-4da1-8663-ff6c8a8b9785"
      },
      "execution_count": 34,
      "outputs": [
        {
          "output_type": "stream",
          "name": "stdout",
          "text": [
            "digite seu codigo:if\n",
            "if - palavra reservada\n"
          ]
        }
      ]
    }
  ]
}