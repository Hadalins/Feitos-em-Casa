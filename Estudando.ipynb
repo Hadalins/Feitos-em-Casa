{
  "cells": [
    {
      "cell_type": "markdown",
      "metadata": {
        "id": "view-in-github",
        "colab_type": "text"
      },
      "source": [
        "<a href=\"https://colab.research.google.com/github/Hadalins/Feitos-em-Casa/blob/main/Estudando.ipynb\" target=\"_parent\"><img src=\"https://colab.research.google.com/assets/colab-badge.svg\" alt=\"Open In Colab\"/></a>"
      ]
    },
    {
      "cell_type": "code",
      "source": [
        "a = int(input('digite o valor de a:'))\n",
        "b = int(input('digite o valor de b:'))\n",
        "c = int(input('digite o valor de c:'))\n",
        "\n",
        "delta = (b*b) - (4*a*c)\n",
        "print ('O valor de delta é :',delta)\n",
        "\n",
        "x1 = round((b*(-1)) + ((b*b)/(2*a)))\n",
        "x2 = round((b*(-1)) - ((b*b)/(2*a)))\n",
        "print('O valor de x1 é :', x1)\n",
        "print('O valor de x2 é :', x2)"
      ],
      "metadata": {
        "id": "8StnBOmNHz3i",
        "outputId": "4642b54f-82f0-4d78-8883-d03ff6296530",
        "colab": {
          "base_uri": "https://localhost:8080/"
        }
      },
      "execution_count": 43,
      "outputs": [
        {
          "output_type": "stream",
          "name": "stdout",
          "text": [
            "digite o valor de a:45\n",
            "digite o valor de b:10\n",
            "digite o valor de c:5\n",
            "O valor de delta é : -800\n",
            "O valor de x1 é : -9\n",
            "O valor de x2 é : -11\n"
          ]
        }
      ]
    },
    {
      "cell_type": "code",
      "source": [
        "#Se a idade for maior ou igual a 16, exiba: pode tirar habilitação\n",
        "idade=int(input('Digite sua idade:'))\n",
        "if(idade >=16):\n",
        "    print ('Pode tirar Habilitação ')\n",
        "else:\n",
        "   ('Não pode tirar Habilitação ')"
      ],
      "metadata": {
        "id": "Inl9ARxqKTd8",
        "outputId": "1a5fe95a-2494-4b12-e092-71e7b31ec56f",
        "colab": {
          "base_uri": "https://localhost:8080/"
        }
      },
      "execution_count": 22,
      "outputs": [
        {
          "output_type": "stream",
          "name": "stdout",
          "text": [
            "Digite sua idade:50\n",
            "Pode tirar Habilitação \n"
          ]
        }
      ]
    }
  ],
  "metadata": {
    "colab": {
      "name": "Olá, este é o Colaboratory",
      "toc_visible": true,
      "provenance": [],
      "include_colab_link": true
    },
    "kernelspec": {
      "display_name": "Python 3",
      "name": "python3"
    }
  },
  "nbformat": 4,
  "nbformat_minor": 0
}