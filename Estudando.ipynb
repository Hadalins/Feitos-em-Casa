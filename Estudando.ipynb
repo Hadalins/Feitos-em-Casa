{
  "nbformat": 4,
  "nbformat_minor": 0,
  "metadata": {
    "colab": {
      "provenance": [],
      "authorship_tag": "ABX9TyPT41YIKPqqctqvZngffkYK",
      "include_colab_link": true
    },
    "kernelspec": {
      "name": "python3",
      "display_name": "Python 3"
    },
    "language_info": {
      "name": "python"
    }
  },
  "cells": [
    {
      "cell_type": "markdown",
      "metadata": {
        "id": "view-in-github",
        "colab_type": "text"
      },
      "source": [
        "<a href=\"https://colab.research.google.com/github/Hadalins/Feitos-em-Casa/blob/main/Estudando.ipynb\" target=\"_parent\"><img src=\"https://colab.research.google.com/assets/colab-badge.svg\" alt=\"Open In Colab\"/></a>"
      ]
    },
    {
      "cell_type": "code",
      "execution_count": 11,
      "metadata": {
        "colab": {
          "base_uri": "https://localhost:8080/"
        },
        "id": "ifRRFsEa57XU",
        "outputId": "e08afc26-d645-4730-830b-0775ee2e03bf"
      },
      "outputs": [
        {
          "output_type": "stream",
          "name": "stdout",
          "text": [
            "Indique a velocidade em m/s:30\n",
            "A velocidade em Km/h é: 108.0\n"
          ]
        }
      ],
      "source": [
        "#. Faça um algoritmo que transforme uma velocidade fornecida em m/s pelo usuário para\n",
        "# Km/h. Para tal, multiplique o valor em m/s por 3,6. \n",
        "\n",
        "velocidade = input(\"Indique a velocidade em m/s:\")\n",
        "conversor = float(velocidade) * 3.6\n",
        "print (\"A velocidade em Km/h é: \" + str(conversor))\n"
      ]
    },
    {
      "cell_type": "code",
      "source": [
        "numero = int(input(\"Digite o numero: \"))\n",
        "numero = str(numero)\n",
        "print(numero[::-1])\n",
        "\n"
      ],
      "metadata": {
        "colab": {
          "base_uri": "https://localhost:8080/"
        },
        "id": "XdOkps09CRvj",
        "outputId": "edab5809-4165-44da-e8b9-34999b674ae0"
      },
      "execution_count": 13,
      "outputs": [
        {
          "output_type": "stream",
          "name": "stdout",
          "text": [
            "Digite o numero: 4598\n",
            "8954\n"
          ]
        }
      ]
    },
    {
      "cell_type": "code",
      "source": [
        "nome = input('Digite seu nome: ')\n",
        "print(nome[::-1])\n"
      ],
      "metadata": {
        "colab": {
          "base_uri": "https://localhost:8080/"
        },
        "id": "I55giNvxDMRj",
        "outputId": "7d010e51-a9a1-4e80-e79b-19ee68d7e2df"
      },
      "execution_count": 14,
      "outputs": [
        {
          "output_type": "stream",
          "name": "stdout",
          "text": [
            "Digite seu nome: Hadames \n",
            " semadaH\n"
          ]
        }
      ]
    }
  ]
}